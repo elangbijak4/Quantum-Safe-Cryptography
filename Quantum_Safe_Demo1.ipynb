{
  "nbformat": 4,
  "nbformat_minor": 0,
  "metadata": {
    "colab": {
      "provenance": [],
      "authorship_tag": "ABX9TyNyAEl9TqMfX48rt0KyMusx",
      "include_colab_link": true
    },
    "kernelspec": {
      "name": "python3",
      "display_name": "Python 3"
    },
    "language_info": {
      "name": "python"
    }
  },
  "cells": [
    {
      "cell_type": "markdown",
      "metadata": {
        "id": "view-in-github",
        "colab_type": "text"
      },
      "source": [
        "<a href=\"https://colab.research.google.com/github/elangbijak4/Quantum-Safe-Cryptography/blob/main/Quantum_Safe_Demo1.ipynb\" target=\"_parent\"><img src=\"https://colab.research.google.com/assets/colab-badge.svg\" alt=\"Open In Colab\"/></a>"
      ]
    },
    {
      "cell_type": "code",
      "execution_count": null,
      "metadata": {
        "colab": {
          "base_uri": "https://localhost:8080/"
        },
        "id": "UJVimFhzbwX1",
        "outputId": "db181ec8-a65a-4678-8ba6-c85009879b25"
      },
      "outputs": [
        {
          "output_type": "stream",
          "name": "stdout",
          "text": [
            "Cloning into 'liboqs-python'...\n",
            "remote: Enumerating objects: 30, done.\u001b[K\n",
            "remote: Counting objects: 100% (30/30), done.\u001b[K\n",
            "remote: Compressing objects: 100% (26/26), done.\u001b[K\n",
            "remote: Total 30 (delta 3), reused 15 (delta 2), pack-reused 0 (from 0)\u001b[K\n",
            "Receiving objects: 100% (30/30), 19.24 KiB | 9.62 MiB/s, done.\n",
            "Resolving deltas: 100% (3/3), done.\n",
            "Processing /content/liboqs-python\n",
            "  Installing build dependencies ... \u001b[?25l\u001b[?25hdone\n",
            "  Getting requirements to build wheel ... \u001b[?25l\u001b[?25hdone\n",
            "  Preparing metadata (pyproject.toml) ... \u001b[?25l\u001b[?25hdone\n",
            "Collecting nose2 (from liboqs-python==0.10.0)\n",
            "  Downloading nose2-0.15.1-py3-none-any.whl.metadata (7.3 kB)\n",
            "Downloading nose2-0.15.1-py3-none-any.whl (211 kB)\n",
            "\u001b[2K   \u001b[90m━━━━━━━━━━━━━━━━━━━━━━━━━━━━━━━━━━━━━━━━\u001b[0m \u001b[32m211.3/211.3 kB\u001b[0m \u001b[31m6.1 MB/s\u001b[0m eta \u001b[36m0:00:00\u001b[0m\n",
            "\u001b[?25hBuilding wheels for collected packages: liboqs-python\n",
            "  Building wheel for liboqs-python (pyproject.toml) ... \u001b[?25l\u001b[?25hdone\n",
            "  Created wheel for liboqs-python: filename=liboqs_python-0.10.0-py3-none-any.whl size=10919 sha256=2a04edc337845c085e368b7b3a7ecbd0e8b5efad9d79571191b9596d125b921b\n",
            "  Stored in directory: /root/.cache/pip/wheels/2e/9e/d3/89e7af8c8e68285b455fb709ad56a607f93aa2e334f1b3612c\n",
            "Successfully built liboqs-python\n",
            "Installing collected packages: nose2, liboqs-python\n",
            "Successfully installed liboqs-python-0.10.0 nose2-0.15.1\n"
          ]
        }
      ],
      "source": [
        "!git clone --depth=1 https://github.com/open-quantum-safe/liboqs-python\n",
        "!cd liboqs-python && pip install ."
      ]
    },
    {
      "cell_type": "code",
      "source": [
        "import oqs\n",
        "\n",
        "# Enumerate supported KEM algorithms\n",
        "kem_algs = oqs.get_enabled_kem_mechanisms()\n",
        "print(\"Supported KEM algorithms:\")\n",
        "for alg in kem_algs:\n",
        "    print(alg)\n",
        "\n",
        "# Choose a KEM algorithm (e.g., 'Kyber512')\n",
        "kem_algorithm = \"Kyber512\"\n",
        "\n",
        "# Instantiate KEM object\n",
        "kem = oqs.KeyEncapsulation(kem_algorithm)\n",
        "\n",
        "# Generate a keypair\n",
        "public_key = kem.generate_keypair()\n",
        "print(f\"Public Key: {public_key.hex()}\")\n",
        "\n",
        "# Encapsulate a shared secret using the public key\n",
        "ciphertext, shared_secret_enc = kem.encap_secret(public_key)\n",
        "print(f\"Ciphertext: {ciphertext.hex()}\")\n",
        "print(f\"Shared Secret (Encapsulated): {shared_secret_enc.hex()}\")\n",
        "\n",
        "# Decapsulate the shared secret using the private key\n",
        "shared_secret_dec = kem.decap_secret(ciphertext)\n",
        "print(f\"Shared Secret (Decapsulated): {shared_secret_dec.hex()}\")\n",
        "\n",
        "# Check if the shared secrets match\n",
        "if shared_secret_enc == shared_secret_dec:\n",
        "    print(\"Shared secrets match!\")\n",
        "else:\n",
        "    print(\"Shared secrets do not match!\")\n",
        "\n",
        "# Cleanup the KEM object\n",
        "kem.free()"
      ],
      "metadata": {
        "colab": {
          "base_uri": "https://localhost:8080/"
        },
        "id": "riFR3gSahmYg",
        "outputId": "9c3ec642-090e-493c-b3e6-7db0d516ea2a"
      },
      "execution_count": null,
      "outputs": [
        {
          "output_type": "stream",
          "name": "stdout",
          "text": [
            "Supported KEM algorithms:\n",
            "BIKE-L1\n",
            "BIKE-L3\n",
            "BIKE-L5\n",
            "Classic-McEliece-348864\n",
            "Classic-McEliece-348864f\n",
            "Classic-McEliece-460896\n",
            "Classic-McEliece-460896f\n",
            "Classic-McEliece-6688128\n",
            "Classic-McEliece-6688128f\n",
            "Classic-McEliece-6960119\n",
            "Classic-McEliece-6960119f\n",
            "Classic-McEliece-8192128\n",
            "Classic-McEliece-8192128f\n",
            "HQC-128\n",
            "HQC-192\n",
            "HQC-256\n",
            "Kyber512\n",
            "Kyber768\n",
            "Kyber1024\n",
            "ML-KEM-512-ipd\n",
            "ML-KEM-512\n",
            "ML-KEM-768-ipd\n",
            "ML-KEM-768\n",
            "ML-KEM-1024-ipd\n",
            "ML-KEM-1024\n",
            "sntrup761\n",
            "FrodoKEM-640-AES\n",
            "FrodoKEM-640-SHAKE\n",
            "FrodoKEM-976-AES\n",
            "FrodoKEM-976-SHAKE\n",
            "FrodoKEM-1344-AES\n",
            "FrodoKEM-1344-SHAKE\n",
            "Public Key: 883366eb57817e8383d48ac9010990846b7efef0c12e48676e047612e006eff5b9aaba23161718fb75590ae28d00b09b17f69dd5296dcde1b08b103f7041b613fccdfae877828103b0c698bb17567d51238730b6c0366a38b84f8bfa76a0a074b975cedb0134830693c2f3011f75b8b35b0ce19572b147a121aba63e0200e8f4ad0150306662a3e92ba6657acb5fda1abb887c4cea1793515ecc0554c21585f14319c3304d931a81b40844bb44693bb9aaf94ac85d731c3f2b491f023807268f90716d6c27c4bb3c152835630383453d3984c7748fec62ca08995661c7bb3ed49eed892cd9564d962050052a40f1a9cd9c175eb1eb3eb2a730e8b138db9950067186a8422797927fc4b995bcf19767f46657c0062d423e64dbac6ca50cf46a579804b87717c512d6c86897615c6092c7f37a551850bd7605a0a67189e1cc53d1c863c0667d55b948834a09a248364741ee395d259496e411589e39ae51f95559db026d833ae27978f60396f0db3b6e66207d87b9fb95b8ee303fa6427a3856bb60149dd3946f12e469bb355c04680165a90dce6536d8276349f9775f307fe257ba5b647614100ca7d65df54a42df5caca093ce3c8258df627ed18447c52b49c2b56315c920e25917bc86394313b3cc064d7cf87524ba901dc808c1a1860f4a182e2a4fc7f6ac6d46c1afea0ac6b206512619a8b288da034036053f9d86470a82c0df3571998b5e18e964ff6440c2dc7b2c5cae02880aef69ace12ca944a590da3958afa7cb530aa259107d26e75c8bb63a29ca358c47037a8165d45c10e68766f141b0336a1a1d22a77e7356fd3343fa75096ea847ecc06b355673595565d8f6653ee67ef9235608f7b7b0ea55b2409ed6d81d1df52d26488273b26e0bd06d5f315a5ec8729d771f49f87a54fa45808a6670844eda261dc891a8242a5bd2764592066dc38b9245fbbfe84b3cfe12495be67c05f9c3f7977a0c638512e86375a83ae0205c6d513ffd2a898032302b967fbfd5a005cb5c849106a35a65496051e1bc304d263fdc04c6e98a3f5ef166beb20691ea3a7b290f6db02f3fd4308c866c75bbc80b8de10a534f792779eff30b9d3d3ea9f7c4c5e8d6eabe7a2efe0e957d\n",
            "Ciphertext: bd1d42c03978e416992bc168a706f3fe9a3eccaa9cba1198fa3eaad4dccf9bff3e99f7571e2d61f308a1da4867d109110f6710c8c3a13226441afeab39c9784d3f157dfe99a363a1d7006cfecea3c1b4acf2950a3a003f052ca4196e551785cbd85faada02eef6c7d70757fc4400ee940fe10bc23a35b4383163c61aa8a712c67d5602fe242683688d2dab206a23b58fc6e92ca7a824180bf1008e34266e38a6eacf737040c860f4819b7e9f98678351dfd6dba21682b3659bb6faf6b602ee230de8c6de2201381f4b6c24c8de780cdd4474b5029fb0fab066d14bfa51779a74282b4a3f6f328800b955e0dc16371b13898fa102be3987e41d41dc2d946fb05ffef7a731110313950debdade211f7c64d3717ba8cec1461d070d61ad0d46410b9d63d97adc9cec60897a9765ac8a95a1bdde476af8deeb76b133f6220a22a1be319aca18e2fc94183f0eca41ad7926b287e8cd71c0e47eab5a1e518717f78ee5bd2b26186328fb848eb21ff56f4e9d992f66b14cdf6d277f40c40ed92c16c45777747c2d39a53b889b31154be8aae9a29bb6a4c4a3492ad83ca4cb0987ac2adba78147137c10397c03e007e0aa872d0a353a9234266f7b633c80323ae44a5aab634bd2e11bc6ace4b8d7c9c62977765acd147a1e56bc6263b833ba43cadf35e96b094f1c8fb3c14769687c16aab8eb2b0d1ce78d03f30e6c7866e7eb7e02207375c716609fd793b5957367c198a81d0bd167eddc438e8574e3dd1fe9cb75740559d6bb88628c4521d0498ef44b897a79d164eb2297d51253f005b15ee1c5d98fc9409d0ac8520debf4dd80337a752dcb264b84d61bc31252137371f7d88385fae8e4168fdd4df1cc8c762165393b072424f722ea0fbdcf3cae416386e01ff37d132e0444565efd2146a671a3e9e26ea8f8211941e49e10059dc32166ec6a70ca8d67175a38ba73ff0fb2ff3972fc9f81f32672eb587379b2c325c3be7c722ae690e0bb96664ecc9b830a3c0c9addddf266ce8a84d716c2eaf4b4f54cd28e2db6880ffafec37d6334f0478c1bb414b42bb0d35ee05464824f56baa00c4483419b\n",
            "Shared Secret (Encapsulated): df870bca3f4fef77423afe2a05ee4e20ec8e976f28b9c131754517978c124350\n",
            "Shared Secret (Decapsulated): df870bca3f4fef77423afe2a05ee4e20ec8e976f28b9c131754517978c124350\n",
            "Shared secrets match!\n"
          ]
        }
      ]
    },
    {
      "cell_type": "code",
      "source": [
        "print(dir(oqs))"
      ],
      "metadata": {
        "colab": {
          "base_uri": "https://localhost:8080/"
        },
        "id": "Y1qKhYkUjYYq",
        "outputId": "d81cb4cc-d7e4-4928-934c-ad364e08b7b5"
      },
      "execution_count": null,
      "outputs": [
        {
          "output_type": "stream",
          "name": "stdout",
          "text": [
            "['KeyEncapsulation', 'MechanismNotEnabledError', 'MechanismNotSupportedError', 'OQS_ERROR', 'OQS_SUCCESS', 'OQS_VERSION', 'Signature', '__builtins__', '__cached__', '__doc__', '__file__', '__loader__', '__name__', '__package__', '__path__', '__spec__', 'ct', 'ctu', 'get_enabled_kem_mechanisms', 'get_enabled_sig_mechanisms', 'get_supported_kem_mechanisms', 'get_supported_sig_mechanisms', 'importlib', 'is_kem_enabled', 'is_sig_enabled', 'native', 'oqs', 'oqs_python_version', 'oqs_version', 'os', 'platform', 'sys', 'tempfile', 'time', 'warnings']\n"
          ]
        }
      ]
    },
    {
      "cell_type": "code",
      "source": [
        "import oqs\n",
        "\n",
        "# Menampilkan mekanisme KEM yang didukung\n",
        "enabled_kem_mechanisms = oqs.get_enabled_kem_mechanisms()\n",
        "supported_kem_mechanisms = oqs.get_supported_kem_mechanisms()\n",
        "\n",
        "print(\"Enabled KEM mechanisms:\", enabled_kem_mechanisms)\n",
        "print(\"Supported KEM mechanisms:\", supported_kem_mechanisms)\n",
        "\n",
        "# Menampilkan mekanisme Signature yang didukung\n",
        "enabled_sig_mechanisms = oqs.get_enabled_sig_mechanisms()\n",
        "supported_sig_mechanisms = oqs.get_supported_sig_mechanisms()\n",
        "\n",
        "print(\"Enabled Signature mechanisms:\", enabled_sig_mechanisms)\n",
        "print(\"Supported Signature mechanisms:\", supported_sig_mechanisms)\n",
        "\n",
        "# Contoh penggunaan mekanisme KEM (Key Encapsulation Mechanism)\n",
        "kem = oqs.KeyEncapsulation(\"Kyber512\")\n",
        "public_key = kem.generate_keypair()\n",
        "ciphertext, shared_secret_enc = kem.encap_secret()\n",
        "shared_secret_dec = kem.decap_secret(ciphertext)\n",
        "\n",
        "print(\"Public key:\", public_key)\n",
        "print(\"Ciphertext:\", ciphertext)\n",
        "print(\"Shared secret (encrypted):\", shared_secret_enc)\n",
        "print(\"Shared secret (decrypted):\", shared_secret_dec)"
      ],
      "metadata": {
        "colab": {
          "base_uri": "https://localhost:8080/",
          "height": 300
        },
        "id": "b_TcxTSBj0wY",
        "outputId": "e306c643-6f9e-49ea-abdf-d6e223dcdcdc"
      },
      "execution_count": null,
      "outputs": [
        {
          "output_type": "stream",
          "name": "stdout",
          "text": [
            "Enabled KEM mechanisms: ['BIKE-L1', 'BIKE-L3', 'BIKE-L5', 'Classic-McEliece-348864', 'Classic-McEliece-348864f', 'Classic-McEliece-460896', 'Classic-McEliece-460896f', 'Classic-McEliece-6688128', 'Classic-McEliece-6688128f', 'Classic-McEliece-6960119', 'Classic-McEliece-6960119f', 'Classic-McEliece-8192128', 'Classic-McEliece-8192128f', 'HQC-128', 'HQC-192', 'HQC-256', 'Kyber512', 'Kyber768', 'Kyber1024', 'ML-KEM-512-ipd', 'ML-KEM-512', 'ML-KEM-768-ipd', 'ML-KEM-768', 'ML-KEM-1024-ipd', 'ML-KEM-1024', 'sntrup761', 'FrodoKEM-640-AES', 'FrodoKEM-640-SHAKE', 'FrodoKEM-976-AES', 'FrodoKEM-976-SHAKE', 'FrodoKEM-1344-AES', 'FrodoKEM-1344-SHAKE']\n",
            "Supported KEM mechanisms: ['BIKE-L1', 'BIKE-L3', 'BIKE-L5', 'Classic-McEliece-348864', 'Classic-McEliece-348864f', 'Classic-McEliece-460896', 'Classic-McEliece-460896f', 'Classic-McEliece-6688128', 'Classic-McEliece-6688128f', 'Classic-McEliece-6960119', 'Classic-McEliece-6960119f', 'Classic-McEliece-8192128', 'Classic-McEliece-8192128f', 'HQC-128', 'HQC-192', 'HQC-256', 'Kyber512', 'Kyber768', 'Kyber1024', 'ML-KEM-512-ipd', 'ML-KEM-512', 'ML-KEM-768-ipd', 'ML-KEM-768', 'ML-KEM-1024-ipd', 'ML-KEM-1024', 'sntrup761', 'FrodoKEM-640-AES', 'FrodoKEM-640-SHAKE', 'FrodoKEM-976-AES', 'FrodoKEM-976-SHAKE', 'FrodoKEM-1344-AES', 'FrodoKEM-1344-SHAKE']\n",
            "Enabled Signature mechanisms: ['Dilithium2', 'Dilithium3', 'Dilithium5', 'ML-DSA-44-ipd', 'ML-DSA-44', 'ML-DSA-65-ipd', 'ML-DSA-65', 'ML-DSA-87-ipd', 'ML-DSA-87', 'Falcon-512', 'Falcon-1024', 'Falcon-padded-512', 'Falcon-padded-1024', 'SPHINCS+-SHA2-128f-simple', 'SPHINCS+-SHA2-128s-simple', 'SPHINCS+-SHA2-192f-simple', 'SPHINCS+-SHA2-192s-simple', 'SPHINCS+-SHA2-256f-simple', 'SPHINCS+-SHA2-256s-simple', 'SPHINCS+-SHAKE-128f-simple', 'SPHINCS+-SHAKE-128s-simple', 'SPHINCS+-SHAKE-192f-simple', 'SPHINCS+-SHAKE-192s-simple', 'SPHINCS+-SHAKE-256f-simple', 'SPHINCS+-SHAKE-256s-simple']\n",
            "Supported Signature mechanisms: ['Dilithium2', 'Dilithium3', 'Dilithium5', 'ML-DSA-44-ipd', 'ML-DSA-44', 'ML-DSA-65-ipd', 'ML-DSA-65', 'ML-DSA-87-ipd', 'ML-DSA-87', 'Falcon-512', 'Falcon-1024', 'Falcon-padded-512', 'Falcon-padded-1024', 'SPHINCS+-SHA2-128f-simple', 'SPHINCS+-SHA2-128s-simple', 'SPHINCS+-SHA2-192f-simple', 'SPHINCS+-SHA2-192s-simple', 'SPHINCS+-SHA2-256f-simple', 'SPHINCS+-SHA2-256s-simple', 'SPHINCS+-SHAKE-128f-simple', 'SPHINCS+-SHAKE-128s-simple', 'SPHINCS+-SHAKE-192f-simple', 'SPHINCS+-SHAKE-192s-simple', 'SPHINCS+-SHAKE-256f-simple', 'SPHINCS+-SHAKE-256s-simple']\n"
          ]
        },
        {
          "output_type": "error",
          "ename": "TypeError",
          "evalue": "KeyEncapsulation.encap_secret() missing 1 required positional argument: 'public_key'",
          "traceback": [
            "\u001b[0;31m---------------------------------------------------------------------------\u001b[0m",
            "\u001b[0;31mTypeError\u001b[0m                                 Traceback (most recent call last)",
            "\u001b[0;32m<ipython-input-15-33fbb14c2b24>\u001b[0m in \u001b[0;36m<cell line: 20>\u001b[0;34m()\u001b[0m\n\u001b[1;32m     18\u001b[0m \u001b[0mkem\u001b[0m \u001b[0;34m=\u001b[0m \u001b[0moqs\u001b[0m\u001b[0;34m.\u001b[0m\u001b[0mKeyEncapsulation\u001b[0m\u001b[0;34m(\u001b[0m\u001b[0;34m\"Kyber512\"\u001b[0m\u001b[0;34m)\u001b[0m\u001b[0;34m\u001b[0m\u001b[0;34m\u001b[0m\u001b[0m\n\u001b[1;32m     19\u001b[0m \u001b[0mpublic_key\u001b[0m \u001b[0;34m=\u001b[0m \u001b[0mkem\u001b[0m\u001b[0;34m.\u001b[0m\u001b[0mgenerate_keypair\u001b[0m\u001b[0;34m(\u001b[0m\u001b[0;34m)\u001b[0m\u001b[0;34m\u001b[0m\u001b[0;34m\u001b[0m\u001b[0m\n\u001b[0;32m---> 20\u001b[0;31m \u001b[0mciphertext\u001b[0m\u001b[0;34m,\u001b[0m \u001b[0mshared_secret_enc\u001b[0m \u001b[0;34m=\u001b[0m \u001b[0mkem\u001b[0m\u001b[0;34m.\u001b[0m\u001b[0mencap_secret\u001b[0m\u001b[0;34m(\u001b[0m\u001b[0;34m)\u001b[0m\u001b[0;34m\u001b[0m\u001b[0;34m\u001b[0m\u001b[0m\n\u001b[0m\u001b[1;32m     21\u001b[0m \u001b[0mshared_secret_dec\u001b[0m \u001b[0;34m=\u001b[0m \u001b[0mkem\u001b[0m\u001b[0;34m.\u001b[0m\u001b[0mdecap_secret\u001b[0m\u001b[0;34m(\u001b[0m\u001b[0mciphertext\u001b[0m\u001b[0;34m)\u001b[0m\u001b[0;34m\u001b[0m\u001b[0;34m\u001b[0m\u001b[0m\n\u001b[1;32m     22\u001b[0m \u001b[0;34m\u001b[0m\u001b[0m\n",
            "\u001b[0;31mTypeError\u001b[0m: KeyEncapsulation.encap_secret() missing 1 required positional argument: 'public_key'"
          ]
        }
      ]
    },
    {
      "cell_type": "code",
      "source": [
        "import oqs\n",
        "\n",
        "# Contoh penggunaan mekanisme KEM (Key Encapsulation Mechanism)\n",
        "kem = oqs.KeyEncapsulation(\"Kyber512\")\n",
        "\n",
        "# Generate public key dan private key\n",
        "public_key = kem.generate_keypair()\n",
        "\n",
        "# Encap secret menggunakan public key\n",
        "ciphertext, shared_secret_enc = kem.encap_secret(public_key)\n",
        "\n",
        "# Decap secret menggunakan ciphertext untuk mendapatkan shared secret yang sama\n",
        "shared_secret_dec = kem.decap_secret(ciphertext)\n",
        "\n",
        "# Output hasil\n",
        "print(\"Public key:\", public_key)\n",
        "print(\"Ciphertext:\", ciphertext)\n",
        "print(\"Shared secret (encrypted):\", shared_secret_enc)\n",
        "print(\"Shared secret (decrypted):\", shared_secret_dec)"
      ],
      "metadata": {
        "colab": {
          "base_uri": "https://localhost:8080/"
        },
        "id": "07pzdekPkEcC",
        "outputId": "f053105d-4491-4a8c-e8cd-5164a37877c8"
      },
      "execution_count": null,
      "outputs": [
        {
          "output_type": "stream",
          "name": "stdout",
          "text": [
            "Public key: b'\\xdd\"}juy(f)\\x8c\\x83\\xa9\\xae\\xc3\\x01\\x82v,\\x04\\xfc\\xc2u8\\xb8\\xe7$\\x08\\x8d\\xeb(^(!\\xd5\\xe4\\x81\\x8b\\nx:\\xf5\\xb2\\xfb\\xf7\\xcc@\\x80\\x16u\\x8b\\x8f\\xfdK\\x9f\\x04\\x10y\\xb19`\\xea\\xda6\\x01WQ\\xd0\\xf3\\x19J;\\xcb9\\x0b\\x08i\\xb1\\xb7\\xea\\x051\\xfbY\\x95\\xa3\\xc6\\xb2r\\x10\\x8b\\x86h\\xa5\\xa0\\x9be\\x05U\\x8d\\x00Ft\\xf9C\\xcf\\xde\\xbc@o\\x05Iz\\x92=\\x8c\\xf1\\xb9\\'Y:\\xbc\\x8a\\xb4\\xd1\\x83\\x9f\\xa3\\xd1v+5\\xaf\\x0b\\xe8\\xae\\xf4\\x16\\x00S\\xf4P\\xe4\\xe4\\x9a\\xd4\\xc6\\x9b\\xcf\\xbb\\x86\\x18D\\xbd`\\x10\\xc9J\\xab\\x0eO\\xb9\\x8a\\xe1\\xd0R\\x91\\xea\\x9b\\x89\\x90\\xa9\\x97v\\xafrP\\x9eP\\xe7r\\xa22$\\xfb\\xc6;@\\x8a\\x0b\\x8a\\xa2}\\x9c\\xe7!\\xdb\\x06iH0n\\x0c\\xe07\\x0e\\xd4\\xc5\\xb6\\xfb.9\\x14\\xbe7\\xcb}\\xca\"\\x10}\\xa24\\xdc+\\x11\\xfb\\x90\\x14\\x8aKe\\xbf\\xd5\\xa3\\xe0\\xc2&\\xe9\\x04\\x8c\\x8c\\x94I\\x82\\xd6\\xbb\\xa0h2\\xbc\\xd9\\x14\\x92\\xe6\\x8a\\xfdv\\x90\\x8b@\\x85\\x99\\xb4\\x18,\\xa0c\\x03c\\x0e$j-\\xc6K\\x14f\\xa4\\xaf\\xdfq\\x99\\xa1r\\xca\\x04\\xe1/B3\\x98\\xb9\\xfc+\\x14\\xf2\\x0f+\\xa9\\x86\\xeaUg\\xb1\\xfb\\xbd\\xf4&q\\xe3U/\\x9c\\x80\\xa3W+z4\"\\x8aK3\\x05\\x91*\\x16\\x98\\xa9%\\x88\\xe74\\x0c\\xe7\\xae\\x938I\\x97\\xa3\\x83\\x9b\\x89w\\x15\\x95-\\xd6\":\\n\\x88\\x9f\\xbd,\\xbf\\xf38\\x9c\\x0cy@\\x08J\\xc8\\x18\\xe9J\\xac\\x02rm\\xe8\\xb7\\x91\\xd7\\x95vz\\x83G*Dm\\xac+\\x87\\t\\xa5\\xa9\\x91\\x8b5\\xbc\\x18\\x1cr\\xbe\\xfa \\x8f rS\\xf0\\x92!\\xe0Hn\\xdf\\x1b\\xc5\\xbb\\xc1f/+\\x9c\\xaf\\xc1\\x87I\\x8c\\nb\\n36\\x01\\xb2\\x07\\x13\\x06\\xf8\\xc7\\tnZ\"Ks\\x05\\xc1\\xa6^x\\x13R\\x0cZ=\\r\\xf2cWcUsS\\x1dk\\xe1[3:\\x94T\\xe5\\xaa\\x15\\x9cJ\\x97\\xc7B\\x85\\xdb{k\\xfb\\'S\\xd3\\xc20\\xc6g\\xa3\\xb1\\x9dS\\xd7\\x8bR\\xb4B\\\\\\xb8u2\\xd1\\xcbF\\x91X\\x07\\x89n\\x1b\\x08#U\\xcc\\x1c\\x87A\\x98%\\x93\\xbeo\\x1c\\x1a\\xb3|\\x08EA~>qd}\\x9c<\\x9e\\x07\\xb9\\x9b\\xf1\\x85\\x01\\x838\\x0c\\xbb\\xa6\\x94\\x14\\xba\\x88@\\xabK\\xc6%\\xe2\\xfc\\x90\\x90\\x9c\\xb1\\n\\xdcJ\\xfe\\x8b\\xb1\\xb1\\xa6\\xca\\x9c\\xa5\\xcc\\x15\\x04\\x10D\\x0b\\xc8c$Z\\x15v%\\xe5\\x82,~\\xcc\\xb1<\\x9b\\xb7\\xa1\\xb5%\\xfcFY\\xb2|\\x9c\\xe4CP\\xed\\xb5Mt\\xba\\x98/\\xe4\\x8d9\\x98\\x1d>\\xa8e\\xdf@\\x89\\xac\\x00\\x83m\\x02\\x1cz\\x01\\xa68\\x86\\xa0j\\xd3u\\xa4`K\\x17\\xec\\x0b\\x96*\\x16I1>\\x06\\x1ar\\x90\\xaci\\xcf3\\x1a\\xb4\\x05\\xba\\xdc[+\\x86\\xdc\\xbeV+\\x95\\xb9\\xc6LKp\\x05]dR\\xac\\x9b\\xc0~\\xe1\\xac;@`\\x92F\\xa8DBh\\x84\\x94\\\\\\xa9\\x07rt\\x0c=;\\xb8\\xc2\\x89\\n\\x97\\x0b\\xa8 7Tb\\x0cW\\x8e\\xc7\\xa3\\x11\\xec\\nI\\x8b%\\x18n\\xd1\\x96\\xb9ZV\\x0bH\\xa5\\x81\\xd3\\x15\\xe20\\x99\\x9e\\x90k\\x84Vn\\x05&\\xc4\\x19\\xc0<7\\xbc\\xc2\\xc6{\\x0f\\x81\\xe2\\x14\\xaef\\xc0\\xa8v\\xb4\\xd0xvqU\\xed\\x82\\x95\\xba\\x10F\\x9eu \\x93\\xc1y\\xd5\\xc9\\xf4\\xdb\\xce-%\\x19\\xc5'\n",
            "Ciphertext: b'\\xe0\\xe3\\\\-\\xf0W\\x072\\x069\\xc1B\\xfa\\xfd\\xd9\\x12_\\x10\\xcc\\x07\\xa6J\\xb3\\xb2r5`\\xb2;\\xe5\\xb1n\\x0c\\x0e\\xf0\\x93O\\x80\\x1f\\x15\\xbe\\xeba\\xfb\\xc5\\xe0Q\\x12,\\xf9\\x9a`\\xdc\\xd5\\xe2\\x19\\x0f\\xf4\\x19\\x1f\\xf5t{\\x12\\x85Z\\x18\\xb83\\xbd>\\x90\\xcb\\x12\\xc8\\xb4\\x0c\\xf8\\x16\\xe3\\xf4\\xbf\\x01\\x12\\xef\\x9a\\x12p\\xf6\\xf8\\x1c\\x03\\x8a\\t\\xc3<\\xc3.$`\\xc4\\xf2@&\\x9cv]\\x14\\xf6\\xd1X\\xda\\x15\\x8e&\\x97\\x1cn:\\xc0\\x82\\x1aZ\\xac\\x07\\xaaOhz\\x86\\'\\xbf\\xff\\xee\\xb4\\x13\\xc8\\xfeT_\\x89\\x8b\\xc5.h-\\t\\xc9%H\\xec\\xad\\xef\\xc2\\xea\\x93~\\x1cDx\\xd0\\xae\\xc8\\xa7^X\\xe3\\xd0N\\x8e\\x9e\\xbb\\xcf]o\\x1b\\xf8\\xdf8\\xc8\\xb15\\xdclU\\xb4\\xff\\x9b\\x92\\xb2t\\xafw%Isg\\xc9\\xd1\\x01\\xf8r\\xf6\\xb9\\xf0u\\x11\\xd2\\xb9K\\x05\\x8a\\x13\\x9b\\x98 eZ\\x08\\x9eI\\xdd\\xb3\\xecz0F\\xdf\\xbf/\\xc5\\xaa=\\x02l\\xd6\\x08\\xd4\\x82<\\xb0\\x98-\\xb6\\x9c\\x1b\\x9e\\x08M\\xa7C\\x1f!\\xf3h\\xbb\\x85;<bt\"\\x97\\xd4\\x18\\xce\\xe2\\xbc\\x0c3_\\xf2\\xcc8Z\\x16e-\\xff\\xb8\\x8b_d\\xbft|\\xd9\\x96\\xad\\x00\\x12\\xca\\x90\\x00g0\\x04\\x9a\\x14\\'\\xf9t5&\\x82Q\\x18\\x8f\\x0cJ\\xe8\\x05**\\xb1A\\xc7d\\xa8\\xdd((I\\xefR\\x8e\\xd0\\\\\\x00\\x8b\\xf6\\xb45\\xe8\\x9b\\x15\\x8d\\x82\\xe4\\x0c\\xad\\xbaV\\xbf\\x88I\\xa6\\x9d hEo/\\xc2\\x89\\x9b?\\x8e&\\x07\\x10\\x95\\xe8\\xaf.\\n\\xeb\\xbdIF*\\xb1\\xda|\\x82\\xe1i\\x99\\x0b\\x05\\x01qS\\x9a\\xc7\\xc8\\x16\\xb0\\x83\\x93\\xe87\\xf4YJ%-\\x84a\\xa8\\x80@QzP\\x86y\\xa1O\"\\xf9>\\xa8\\xc6\\xfe1\\xfe\\xf3\\xcb\\x97\\xff\\xdb\\xa2\\xc4\\xd6{E|0\\xe6`C \\x00`\\x89\\xf2\\x16W\\x96\\xa71N\\xd3\\x1edT\\xc7\\xc1\\xa1>;\\x15\\xd1h\\xf4\\x00\\xf9\\xa0\\x93t\\x1b\\xcd~WA&\"\\xf4\\xe0\\xd4\\xf7\\xcb\\xdfJ\\xab\\xed\\x03 \\x99\\x95t\\xb2\\x8a\\xeb\\x1e\\xba\\x88\\x00\\x8d\\xeaj \\xed\\x86P}\\x11\\x02dd6\\xdeK\\x89#\\xf6\\x1dsp_B\\xd4\\xa3\\x03~\\xf4\\x84\\xdc\\xa3\\x87:\\x1b0\\xd5\\xf1\\x08w\\x87\\xbf\\x13\\xcd<P\\x9fo\\xb9\\x0f\\x01\\xc0R{\\xeb\\xac]Hv;\\xf3\\xd9^\\x07\\xaa\\xd01R\\x1e7\\xc0\\xcf3\\x1b\\xc5c@$.\\xe5\\xa9}\\xc3b\\xa5\\x87+\\x8f\\xae\\xfcmS\\xd7\\xc3e\\xa8P\\xd2\\xb2P\\x97I\\x1cC\\xf9\\x06\\xf3\\x85\\x8d\\xb6> iYqm\\xc9\\xeb\\x98\\xf6\\x8a\\x98\\x9e\\x8f!4\\xb3\\xbf-\\xc4\\x88#\\xd2\\xe3\\xaf\\xf7=\\xd8\\xc1x\\xb1\\xb0\\x98\\xf2\\xcc\\xa14\\xb4\\xac\\x8fu\\xe7\\x08\\xfc\\x8d1\\\\v9\\xf9\\xb3\\x8a\\xea\\xd9^\\x07I \\xd4A\\x1a9\\xc1Zi\\xb6\\xc4\\xac7\\x8b\\xa3\\xab=\\x0eP\\xaevZ\\xcc\\xa4\\x19\\xcd0\\x9a\\x0f\\xe7R\\xce\\x19\\xd7\\xef\\xb2\\xac\\x11\\x95\\xff\\x1dk3\\\\o\\xd0\\xc1~eq\\x02=\\x86g\\xb9\\x8aV\\xf9P\\xa4\\x98\\xa6\\x0c\\xcf\\xac\\xf5\\x8ff\\xb7\\xbd_\\xa9\\xaf\\xfd\\xdc\\x1b0?\\x89h\\x12\\xe7yz\\xb7EL\\xd5>\\xf8\\xe09L$V\\xa6+\\xf4B\\xd0\\xfa\\xddH\\x7fS\\x9a\\xe3\\xb6\\xe6\\xe7d\\xf1m`'\n",
            "Shared secret (encrypted): b'\\xc369r\\xc1\\xba\\x86;y\\xe2\\x10Z|\\x8e\\xe6\\x0f\\xa7\\xa7*3\\xaa\\xe7\\xad\\x0e\\xa3\\xcb\\x84t\\xc1\\xf3*\\xee'\n",
            "Shared secret (decrypted): b'\\xc369r\\xc1\\xba\\x86;y\\xe2\\x10Z|\\x8e\\xe6\\x0f\\xa7\\xa7*3\\xaa\\xe7\\xad\\x0e\\xa3\\xcb\\x84t\\xc1\\xf3*\\xee'\n"
          ]
        }
      ]
    },
    {
      "cell_type": "code",
      "source": [
        "import oqs\n",
        "\n",
        "# Enumerate supported signature algorithms\n",
        "sig_algs = oqs.get_enabled_sig_mechanisms()\n",
        "print(\"Supported signature algorithms:\")\n",
        "for alg in sig_algs:\n",
        "    print(alg)\n",
        "\n",
        "# Choose a signature algorithm (e.g., 'Dilithium2')\n",
        "sig_algorithm = \"Dilithium2\"\n",
        "\n",
        "# Instantiate signature object\n",
        "sig = oqs.Signature(sig_algorithm)\n",
        "\n",
        "# Generate a keypair\n",
        "public_key = sig.generate_keypair()\n",
        "print(f\"Public Key: {public_key.hex()}\")\n",
        "\n",
        "# Sign a message\n",
        "message = b\"Message for signing\"\n",
        "signature = sig.sign(message)\n",
        "print(f\"Signature: {signature.hex()}\")\n",
        "\n",
        "# Verify the signature\n",
        "valid = sig.verify(message, signature, public_key)\n",
        "if valid:\n",
        "    print(\"Signature is valid!\")\n",
        "else:\n",
        "    print(\"Signature is invalid!\")\n",
        "\n",
        "# Cleanup the signature object\n",
        "sig.free()"
      ],
      "metadata": {
        "colab": {
          "base_uri": "https://localhost:8080/"
        },
        "id": "-Jo5qNzukeXT",
        "outputId": "4cbe584b-e920-4c67-b8d8-35629cb2517a"
      },
      "execution_count": null,
      "outputs": [
        {
          "output_type": "stream",
          "name": "stdout",
          "text": [
            "Supported signature algorithms:\n",
            "Dilithium2\n",
            "Dilithium3\n",
            "Dilithium5\n",
            "ML-DSA-44-ipd\n",
            "ML-DSA-44\n",
            "ML-DSA-65-ipd\n",
            "ML-DSA-65\n",
            "ML-DSA-87-ipd\n",
            "ML-DSA-87\n",
            "Falcon-512\n",
            "Falcon-1024\n",
            "Falcon-padded-512\n",
            "Falcon-padded-1024\n",
            "SPHINCS+-SHA2-128f-simple\n",
            "SPHINCS+-SHA2-128s-simple\n",
            "SPHINCS+-SHA2-192f-simple\n",
            "SPHINCS+-SHA2-192s-simple\n",
            "SPHINCS+-SHA2-256f-simple\n",
            "SPHINCS+-SHA2-256s-simple\n",
            "SPHINCS+-SHAKE-128f-simple\n",
            "SPHINCS+-SHAKE-128s-simple\n",
            "SPHINCS+-SHAKE-192f-simple\n",
            "SPHINCS+-SHAKE-192s-simple\n",
            "SPHINCS+-SHAKE-256f-simple\n",
            "SPHINCS+-SHAKE-256s-simple\n",
            "Public Key: 0f0c71d6b31f64d3c575f6395bdb6ebd3471c7945a59144c9a84212879c612138ac0713dfe336a05c48cf04939ac886aa19078dc995a068496aa1c8ac97611b70ce1582d025874d0ed695e54a74fc9425e97af8dd8bc6a9b85e7c3a881daa41bdd45cacbc831bc7b965c999d48f534c3758a4d2c5e28ff699116965bc2518a32b16b89ee8f9758afcd0411d5588f5686d1981cac3f927ce0a08a5c0a173ebbd101ce79c4e55084cd97f233dc37c7660e21c8715311de10d1cc53df9f6d97e2f382921879c578e97e503753fb62aca457e3f6fc20700d521a99af581ca76493aa963a864bf8df219f913d27b3eb29b6a9773c07b7821ed1869727680e88e42aa2e2a379da3c7307c513e008f0dce50e054c2e36985b45586f25f1ab7254e1da18118875f269e508cfa71ecf894221db6dbb04874cbc086eb40f1f8129f74221c70d2cc2d24a29132203a63cf3c1911ca1d2e39ad3dc7a0de2d3da4ca1ca519d47e62d593128dc8af95fef6a2f3b26cc123873d3366c05db67183ea214a74c31ee6e10f49529d618cb54c891f9e94af67ac4a879e4217077081e02cdac9fd5cf309d292898c4263b28fc4409f3c76b27e6e91fa9eff6502d37657933ca5f91902bd0a78f2055e1d3aa1350525fc3b459fae0fb92d872f8d2b44b1028e27d7c023a23e8e1a74e66fee2baba9fdb11a5614d1511f90e31b0f6a96d0cae45da348bad5477491c6e6678c7c92eec4b1becf32c480cd9f4574d65aaa32ed5a081f3e8be7e955c9e285809d5521ad751156f37214fe6c7c70236e04fc4df0d67d7e46be04b40909ab49b4540e474e659813e4b0e5c7c38ff40e9a373e192352af0ec8bb20d1fbcdf96f621cfe6f4bacbe98621fe74a44390a97fc186d35ad244bb5d5765e398cad6c40e17bc900b99af0e534319bda8cb1bd14d4d3e628802eff54eec2b2ad3c880ba790ac7aafda7e47775f514e7a60e9af8ab7b5403a89738b0b610cb40eff1eea92d8392395b1dbe37c6509c2f9217e8b729d9a2a4a6cc1b8467988e1bf98164e9c02f34156929b057a82bd0bcfffa11b72440775a9bac1d15e38873ce5ccb15a43050dd37898f7784e5df3a55a1b73e5b8d184b4c641f3d0690b81d6f4d234dea00c955396a7f34a5f2eff48b23b17e14d409635a07d7e92f2adfa283769c5b2c54dd93084f45549f3ae0d4e6056f41be6f7ef5c11a1e1b834fd21a5d5e0e08b42ba8077d6715e7eb1a07b8774dbc0beea56a0c9e3824c15d1171eeda50439b535437453d958acda43e8ed359b3d401e0d3b2efc713d8b88e23f4bbc17a8ec15b3e4bc62f06cd04a4f42c2f2556fa932720b08387e8b97b85491cf5e0067ef17c4fc90c89723776155b1fc5514c4157df04f6864fbb06dc0d2a642d2be53174bc11b9d403b2c0cb1f3c32de858bb6d942f7fb54a435d11f178664afbc75f431320e43ae38b842b996664af0c0aca7667d9dd77d8ed669e54c5de6fef3a48d78a68e222af1a83363644e52977f7a67bb9e065fd53ff7bea8ac06d405ea6154c9338209c416680a653951c8d6576650a1045d6ae5faab917d09624b667815140414003fbd7afee07265808684aca556f88a7f7f637f116020a508786c9ae6e06922e0f519ce4ca39923b2b1a0f88133b5f404ce9432924cd3eff9232d70fc08db68c1d68499eeabcbd04bcd6941598751b650b9117107b0a3c5424720b74951bae611c0b7456cbd862066b030da41c4cf2ec872df1d4375379aa053422276c144c48ad412434dcc703cfbe5092c0f6d7c08514916b5c27b1c4879c107b13a721dfe8ef348a434c393b322cd4c4b3866d32a04c35bca4ac56bfad51bc1\n",
            "Signature: 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\n",
            "Signature is valid!\n"
          ]
        }
      ]
    }
  ]
}